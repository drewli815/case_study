{
 "cells": [
  {
   "cell_type": "code",
   "execution_count": 1,
   "metadata": {},
   "outputs": [],
   "source": [
    "#import packages\n",
    "import pandas as pd\n",
    "import numpy as np\n",
    "import seaborn as sns\n",
    "import pandas_profiling as pp\n",
    "import matplotlib.pyplot as plt"
   ]
  },
  {
   "cell_type": "code",
   "execution_count": 2,
   "metadata": {},
   "outputs": [
    {
     "data": {
      "text/html": [
       "<div>\n",
       "<style scoped>\n",
       "    .dataframe tbody tr th:only-of-type {\n",
       "        vertical-align: middle;\n",
       "    }\n",
       "\n",
       "    .dataframe tbody tr th {\n",
       "        vertical-align: top;\n",
       "    }\n",
       "\n",
       "    .dataframe thead th {\n",
       "        text-align: right;\n",
       "    }\n",
       "</style>\n",
       "<table border=\"1\" class=\"dataframe\">\n",
       "  <thead>\n",
       "    <tr style=\"text-align: right;\">\n",
       "      <th></th>\n",
       "      <th>customer_email</th>\n",
       "      <th>net_revenue</th>\n",
       "      <th>year</th>\n",
       "    </tr>\n",
       "    <tr>\n",
       "      <th>Unnamed: 0</th>\n",
       "      <th></th>\n",
       "      <th></th>\n",
       "      <th></th>\n",
       "    </tr>\n",
       "  </thead>\n",
       "  <tbody>\n",
       "    <tr>\n",
       "      <th>0</th>\n",
       "      <td>nhknapwsbx@gmail.com</td>\n",
       "      <td>249.92</td>\n",
       "      <td>2015</td>\n",
       "    </tr>\n",
       "    <tr>\n",
       "      <th>1</th>\n",
       "      <td>joiuzbvcpn@gmail.com</td>\n",
       "      <td>87.61</td>\n",
       "      <td>2015</td>\n",
       "    </tr>\n",
       "    <tr>\n",
       "      <th>2</th>\n",
       "      <td>ukkjctepxt@gmail.com</td>\n",
       "      <td>168.38</td>\n",
       "      <td>2015</td>\n",
       "    </tr>\n",
       "    <tr>\n",
       "      <th>3</th>\n",
       "      <td>gykatilzrt@gmail.com</td>\n",
       "      <td>62.40</td>\n",
       "      <td>2015</td>\n",
       "    </tr>\n",
       "    <tr>\n",
       "      <th>4</th>\n",
       "      <td>mmsgsrtxah@gmail.com</td>\n",
       "      <td>43.08</td>\n",
       "      <td>2015</td>\n",
       "    </tr>\n",
       "  </tbody>\n",
       "</table>\n",
       "</div>"
      ],
      "text/plain": [
       "                   customer_email  net_revenue  year\n",
       "Unnamed: 0                                          \n",
       "0            nhknapwsbx@gmail.com       249.92  2015\n",
       "1            joiuzbvcpn@gmail.com        87.61  2015\n",
       "2            ukkjctepxt@gmail.com       168.38  2015\n",
       "3            gykatilzrt@gmail.com        62.40  2015\n",
       "4            mmsgsrtxah@gmail.com        43.08  2015"
      ]
     },
     "execution_count": 2,
     "metadata": {},
     "output_type": "execute_result"
    }
   ],
   "source": [
    "#import data\n",
    "df = pd.read_csv('casestudy.csv')\n",
    "df.set_index('Unnamed: 0', inplace = True)\n",
    "df.head()\n"
   ]
  },
  {
   "cell_type": "code",
   "execution_count": 3,
   "metadata": {},
   "outputs": [],
   "source": [
    "#create dfs\n",
    "first = df.loc[(df['year'] == 2015)]\n",
    "second = df.loc[(df['year'] == 2016)]\n",
    "last = df.loc[(df['year'] == 2017)]"
   ]
  },
  {
   "cell_type": "markdown",
   "metadata": {},
   "source": [
    "# Question 1"
   ]
  },
  {
   "cell_type": "code",
   "execution_count": 4,
   "metadata": {},
   "outputs": [
    {
     "name": "stdout",
     "output_type": "stream",
     "text": [
      "Revenue for Current Year (2015): 29036749.189999994\n",
      "Revenue for Current Year (2016): 25730943.59\n",
      "Revenue for Current Year (2017): 31417495.030000016\n"
     ]
    }
   ],
   "source": [
    "#total revenue for the current year\n",
    "#i'm going to assume the current year is 2017 the latest year th\n",
    "rev1 = first['net_revenue'].sum()\n",
    "print('Revenue for Current Year (2015): ' + str(rev1))\n",
    "\n",
    "rev2 = second['net_revenue'].sum()\n",
    "print('Revenue for Current Year (2016): ' + str(rev2))\n",
    "\n",
    "rev3 = last['net_revenue'].sum()\n",
    "print('Revenue for Current Year (2017): ' + str(rev3))"
   ]
  },
  {
   "cell_type": "markdown",
   "metadata": {},
   "source": [
    "# Question 2"
   ]
  },
  {
   "cell_type": "code",
   "execution_count": 5,
   "metadata": {},
   "outputs": [
    {
     "name": "stdout",
     "output_type": "stream",
     "text": [
      "Revenue for New Customers: 57148438.62000001\n"
     ]
    }
   ],
   "source": [
    "#new customer revenue\n",
    "#this needs to be fixed\n",
    "#I'm going to assume that this refers to customers in 2016 and 2017\n",
    "rev2 = df.loc[(df['year'] == 2016) | (df['year'] == 2017)]\n",
    "rev2 = rev2['net_revenue'].sum()\n",
    "print('Revenue for New Customers: ' + str(rev2))\n"
   ]
  },
  {
   "cell_type": "markdown",
   "metadata": {},
   "source": [
    "# Question 3"
   ]
  },
  {
   "cell_type": "code",
   "execution_count": 6,
   "metadata": {},
   "outputs": [
    {
     "name": "stdout",
     "output_type": "stream",
     "text": [
      "Existing Customer Growth: 28111689.43000002\n",
      "Existing Customer Growth: -25730943.589999996\n"
     ]
    }
   ],
   "source": [
    "#existing customer growth\n",
    "\n",
    "#ecg 2015-2016\n",
    "ecg1 = rev2 - rev1\n",
    "\n",
    "print('Existing Customer Growth: ' + str(ecg1))\n",
    "\n",
    "#ecg 2016-2017\n",
    "ecg2 = rev3 - rev2\n",
    "print('Existing Customer Growth: ' + str(ecg2))\n",
    "\n"
   ]
  },
  {
   "cell_type": "markdown",
   "metadata": {},
   "source": [
    "# Question 4"
   ]
  },
  {
   "cell_type": "code",
   "execution_count": 9,
   "metadata": {},
   "outputs": [],
   "source": [
    "#revenue lost from attrition\n",
    "\n",
    "#customers that stopped being customers in 2016\n",
    "    #populate lists with customer emails\n",
    "\n",
    "email_2015 = []\n",
    "lost_2015_2016 = []\n",
    "lost_2016_2017 = []\n",
    "\n",
    "for i in first['customer_email']:\n",
    "    email_2015.append(i)\n",
    "    \n",
    "email_2016 = []\n",
    "for i in second['customer_email']:\n",
    "    email_2016.append(i)\n",
    "    \n",
    "email_2017 = []\n",
    "for i in last['customer_email']:\n",
    "    email_2017.append(i)\n",
    "    \n",
    "\n",
    "\n",
    "    "
   ]
  },
  {
   "cell_type": "code",
   "execution_count": 11,
   "metadata": {},
   "outputs": [],
   "source": [
    "#find the lost customer emails\n",
    "for i in email_2015:\n",
    "    if i not in email_2016:\n",
    "        lost_2015_2016.append(i)\n",
    "    \n",
    "for i in email_2016:\n",
    "    if i not in email_2017:\n",
    "        lost_2016_2017.append(i)\n"
   ]
  },
  {
   "cell_type": "code",
   "execution_count": 14,
   "metadata": {},
   "outputs": [
    {
     "name": "stdout",
     "output_type": "stream",
     "text": [
      "Attrition from 2015 to 2016: Unnamed: 0\n",
      "0   NaN\n",
      "Name: net_revenue, dtype: float64\n",
      "Attrition from 2016 to 2017: Unnamed: 0\n",
      "231294   NaN\n",
      "Name: net_revenue, dtype: float64\n"
     ]
    }
   ],
   "source": [
    "#now the lost lists should contain the customer that were lost in the next year\n",
    "\n",
    "#extract the net revenue for the ids that were lost\n",
    "\n",
    "lost_rev1 = 0\n",
    "lost_rev2 = 0\n",
    "\n",
    "for i in lost_2015_2016:\n",
    "    obs = first.loc[first['customer_email'] == i]\n",
    "    lost_rev1 += obs['net_revenue']\n",
    "for i in lost_2016_2017:\n",
    "    obs = second.loc[second['customer_email'] == i]\n",
    "    lost_rev2 += obs['net_revenue']\n",
    "print('Attrition from 2015 to 2016: ' + str(lost_rev1))\n",
    "print('Attrition from 2016 to 2017: ' + str(lost_rev2))"
   ]
  },
  {
   "cell_type": "markdown",
   "metadata": {},
   "source": [
    "# Question 5"
   ]
  },
  {
   "cell_type": "code",
   "execution_count": 18,
   "metadata": {},
   "outputs": [
    {
     "name": "stdout",
     "output_type": "stream",
     "text": [
      "Existing Customer Revenue 2015: 29036749.189999994\n",
      "Existing Customer Revenue 2016: 25730943.59\n",
      "Existing Customer Revenue 2016: 31417495.030000016\n"
     ]
    }
   ],
   "source": [
    "#existing customer revenue current year\n",
    "ecr = first['net_revenue'].sum()\n",
    "print('Existing Customer Revenue 2015: ' + str(ecr))\n",
    "\n",
    "ecr2 = second['net_revenue'].sum()\n",
    "print('Existing Customer Revenue 2016: ' + str(ecr2))\n",
    "\n",
    "ecr3 = last['net_revenue'].sum()\n",
    "print('Existing Customer Revenue 2016: ' + str(ecr3))"
   ]
  },
  {
   "cell_type": "markdown",
   "metadata": {},
   "source": [
    "# Question 6"
   ]
  },
  {
   "cell_type": "code",
   "execution_count": 19,
   "metadata": {},
   "outputs": [
    {
     "name": "stdout",
     "output_type": "stream",
     "text": [
      "Existing Customer revenue prior year 2016: 29036749.189999994\n",
      "Existing Customer revenue prior year 2017: 25730943.59\n"
     ]
    }
   ],
   "source": [
    "#Existing customer prior year\n",
    "\n",
    "print('Existing Customer revenue prior year 2016: ' + str(ecr))\n",
    "print('Existing Customer revenue prior year 2017: ' + str(ecr2))"
   ]
  },
  {
   "cell_type": "markdown",
   "metadata": {},
   "source": [
    "# Question 7"
   ]
  },
  {
   "cell_type": "code",
   "execution_count": 20,
   "metadata": {},
   "outputs": [
    {
     "name": "stdout",
     "output_type": "stream",
     "text": [
      "Total Customers 2015: 231294\n",
      "Total Customers 2016: 204646\n",
      "Total Customers 2015: 249987\n"
     ]
    }
   ],
   "source": [
    "#total customers current year\n",
    "first_customers = len(first)\n",
    "second_customers = len(second)\n",
    "last_customers = len(last)\n",
    "\n",
    "print('Total Customers 2015: ' + str(first_customers))\n",
    "print('Total Customers 2016: ' + str(second_customers))\n",
    "print('Total Customers 2015: ' + str(last_customers))\n"
   ]
  },
  {
   "cell_type": "markdown",
   "metadata": {},
   "source": [
    "# Question 8"
   ]
  },
  {
   "cell_type": "code",
   "execution_count": 21,
   "metadata": {},
   "outputs": [
    {
     "name": "stdout",
     "output_type": "stream",
     "text": [
      "Total Customers 2015: 231294\n",
      "Total Customers 2016: 204646\n"
     ]
    }
   ],
   "source": [
    "#total customers previous year\n",
    "print('Total Customers 2015: ' + str(first_customers))\n",
    "print('Total Customers 2016: ' + str(second_customers))"
   ]
  },
  {
   "cell_type": "markdown",
   "metadata": {},
   "source": [
    "# Question 9"
   ]
  },
  {
   "cell_type": "code",
   "execution_count": 32,
   "metadata": {},
   "outputs": [
    {
     "name": "stdout",
     "output_type": "stream",
     "text": [
      "New customers in 2016 204646\n",
      "New customers in 2017 249987\n"
     ]
    }
   ],
   "source": [
    "#new customers\n",
    "#d = {}\n",
    "#for i, j in df.iterrows():\n",
    " #   if j['customer_email'] in d:\n",
    "    #    d[j['customer_email']].append(j['year'])\n",
    " #   else: d[j['customer_email']] = [j['year']]\n",
    "d = df['customer_email'].value_counts().to_dict()\n",
    "new_customers_2017 = last_customers\n",
    "new_customers_2016 = second_customers\n",
    "\n",
    "print('New customers in 2016 ' + str(new_customers_2016))\n",
    "print('New customers in 2017 ' + str(new_customers_2017))\n"
   ]
  },
  {
   "cell_type": "markdown",
   "metadata": {},
   "source": [
    "# Question 10"
   ]
  },
  {
   "cell_type": "code",
   "execution_count": 53,
   "metadata": {},
   "outputs": [
    {
     "name": "stdout",
     "output_type": "stream",
     "text": [
      "Lost customers from 2015 to 2016: 171710\n",
      "Lost customers from 2016 to 2017: 183687\n"
     ]
    }
   ],
   "source": [
    "#lost customers\n",
    "\n",
    "#lost customers from 2015 to 2016\n",
    "print('Lost customers from 2015 to 2016: ' + str(len(lost_2015_2016)))\n",
    "\n",
    "#lost customers from 2016 to 2017\n",
    "print('Lost customers from 2016 to 2017: ' + str(len(lost_2016_2017)))"
   ]
  },
  {
   "cell_type": "markdown",
   "metadata": {},
   "source": [
    "# Graphs"
   ]
  },
  {
   "cell_type": "code",
   "execution_count": 40,
   "metadata": {},
   "outputs": [
    {
     "data": {
      "text/html": [
       "<div>\n",
       "<style scoped>\n",
       "    .dataframe tbody tr th:only-of-type {\n",
       "        vertical-align: middle;\n",
       "    }\n",
       "\n",
       "    .dataframe tbody tr th {\n",
       "        vertical-align: top;\n",
       "    }\n",
       "\n",
       "    .dataframe thead th {\n",
       "        text-align: right;\n",
       "    }\n",
       "</style>\n",
       "<table border=\"1\" class=\"dataframe\">\n",
       "  <thead>\n",
       "    <tr style=\"text-align: right;\">\n",
       "      <th></th>\n",
       "      <th>net_revenue</th>\n",
       "    </tr>\n",
       "    <tr>\n",
       "      <th>year</th>\n",
       "      <th></th>\n",
       "    </tr>\n",
       "  </thead>\n",
       "  <tbody>\n",
       "    <tr>\n",
       "      <th>2015</th>\n",
       "      <td>29036749.19</td>\n",
       "    </tr>\n",
       "    <tr>\n",
       "      <th>2016</th>\n",
       "      <td>25730943.59</td>\n",
       "    </tr>\n",
       "    <tr>\n",
       "      <th>2017</th>\n",
       "      <td>31417495.03</td>\n",
       "    </tr>\n",
       "  </tbody>\n",
       "</table>\n",
       "</div>"
      ],
      "text/plain": [
       "      net_revenue\n",
       "year             \n",
       "2015  29036749.19\n",
       "2016  25730943.59\n",
       "2017  31417495.03"
      ]
     },
     "execution_count": 40,
     "metadata": {},
     "output_type": "execute_result"
    },
    {
     "data": {
      "image/png": "[encoded data removed]",
      "text/plain": [
       "<Figure size 432x288 with 1 Axes>"
      ]
     },
     "metadata": {
      "needs_background": "light"
     },
     "output_type": "display_data"
    }
   ],
   "source": [
    "# year by net_revenue\n",
    "sns.barplot(x = df['year'], y = df['net_revenue'])\n",
    "\n"
   ]
  },
  {
   "cell_type": "code",
   "execution_count": 48,
   "metadata": {},
   "outputs": [
    {
     "data": {
      "text/plain": [
       "<matplotlib.axes._subplots.AxesSubplot at 0x1269bf790>"
      ]
     },
     "execution_count": 48,
     "metadata": {},
     "output_type": "execute_result"
    },
    {
     "data": {
      "image/png": "[encoded data removed]",
      "text/plain": [
       "<Figure size 432x288 with 1 Axes>"
      ]
     },
     "metadata": {
      "needs_background": "light"
     },
     "output_type": "display_data"
    }
   ],
   "source": [
    "x = list(df.groupby('year').sum().index)\n",
    "y = list(df.groupby('year').sum()['net_revenue'])\n",
    "sns.barplot(x, y)"
   ]
  },
  {
   "cell_type": "code",
   "execution_count": 49,
   "metadata": {},
   "outputs": [
    {
     "data": {
      "text/plain": [
       "<matplotlib.axes._subplots.AxesSubplot at 0x128d8b220>"
      ]
     },
     "execution_count": 49,
     "metadata": {},
     "output_type": "execute_result"
    },
    {
     "data": {
      "image/png": "[encoded data removed]",
      "text/plain": [
       "<Figure size 432x288 with 1 Axes>"
      ]
     },
     "metadata": {
      "needs_background": "light"
     },
     "output_type": "display_data"
    }
   ],
   "source": [
    "x = list(df.groupby('year').mean().index)\n",
    "y = list(df.groupby('year').mean()['net_revenue'])\n",
    "sns.barplot(x, y)"
   ]
  },
  {
   "cell_type": "code",
   "execution_count": 50,
   "metadata": {},
   "outputs": [
    {
     "data": {
      "text/plain": [
       "<matplotlib.axes._subplots.AxesSubplot at 0x12d880880>"
      ]
     },
     "execution_count": 50,
     "metadata": {},
     "output_type": "execute_result"
    },
    {
     "data": {
      "image/png": "[encoded data removed]",
      "text/plain": [
       "<Figure size 432x288 with 1 Axes>"
      ]
     },
     "metadata": {
      "needs_background": "light"
     },
     "output_type": "display_data"
    }
   ],
   "source": [
    "x = list(df.groupby('year').sum().index)\n",
    "y = list(df.groupby('year').sum()['net_revenue'])\n",
    "sns.barplot(x, y)\n"
   ]
  },
  {
   "cell_type": "code",
   "execution_count": 51,
   "metadata": {},
   "outputs": [
    {
     "data": {
      "text/plain": [
       "<matplotlib.axes._subplots.AxesSubplot at 0x12d902d90>"
      ]
     },
     "execution_count": 51,
     "metadata": {},
     "output_type": "execute_result"
    },
    {
     "data": {
      "image/png": "[encoded data removed]",
      "text/plain": [
       "<Figure size 432x288 with 1 Axes>"
      ]
     },
     "metadata": {
      "needs_background": "light"
     },
     "output_type": "display_data"
    }
   ],
   "source": [
    "x = list(df.groupby('year').std().index)\n",
    "y = list(df.groupby('year').std()['net_revenue'])\n",
    "sns.barplot(x, y)"
   ]
  },
  {
   "cell_type": "markdown",
   "metadata": {},
   "source": [
    "I was interested to see the relationiship and spread of net revenue across the three years."
   ]
  },
  {
   "cell_type": "code",
   "execution_count": null,
   "metadata": {},
   "outputs": [],
   "source": []
  }
 ],
 "metadata": {
  "kernelspec": {
   "display_name": "Python 3",
   "language": "python",
   "name": "python3"
  },
  "language_info": {
   "codemirror_mode": {
    "name": "ipython",
    "version": 3
   },
   "file_extension": ".py",
   "mimetype": "text/x-python",
   "name": "python",
   "nbconvert_exporter": "python",
   "pygments_lexer": "ipython3",
   "version": "3.8.3"
  }
 },
 "nbformat": 4,
 "nbformat_minor": 4
}
